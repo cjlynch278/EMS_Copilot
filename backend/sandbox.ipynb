{
 "cells": [
  {
   "cell_type": "code",
   "execution_count": 6,
   "id": "23a4675a",
   "metadata": {},
   "outputs": [],
   "source": [
    "\n",
    "from google.genai import types\n",
    "os.environ[\"GOOGLE_GENAI_USE_VERTEXAI\"] = \"false\"\n",
    "import requests\n",
    "import json\n",
    "from google import genai\n",
    "from google.genai import types\n",
    "import os\n",
    "\n",
    "# Define a function that the model can call to control smart lights\n",
    "set_light_values_declaration = {\n",
    "    \"name\": \"set_light_values\",\n",
    "    \"description\": \"Sets the brightness and color temperature of a light.\",\n",
    "    \"parameters\": {\n",
    "        \"type\": \"object\",\n",
    "        \"properties\": {\n",
    "            \"brightness\": {\n",
    "                \"type\": \"integer\",\n",
    "                \"description\": \"Light level from 0 to 100. Zero is off and 100 is full brightness\",\n",
    "            },\n",
    "            \"color_temp\": {\n",
    "                \"type\": \"string\",\n",
    "                \"enum\": [\"daylight\", \"cool\", \"warm\"],\n",
    "                \"description\": \"Color temperature of the light fixture, which can be `daylight`, `cool` or `warm`.\",\n",
    "            },\n",
    "        },\n",
    "        \"required\": [\"brightness\", \"color_temp\"],\n",
    "    },\n",
    "}\n",
    "\n",
    "# This is the actual function that would be called based on the model's suggestion\n",
    "def set_light_values(brightness: int, color_temp: str) -> dict[str, int | str]:\n",
    "    \"\"\"Set the brightness and color temperature of a room light. (mock API).\n",
    "\n",
    "    Args:\n",
    "        brightness: Light level from 0 to 100. Zero is off and 100 is full brightness\n",
    "        color_temp: Color temperature of the light fixture, which can be `daylight`, `cool` or `warm`.\n",
    "\n",
    "    Returns:\n",
    "        A dictionary containing the set brightness and color temperature.\n",
    "    \"\"\"\n",
    "    return {\"brightness\": brightness, \"colorTemperature\": color_temp}"
   ]
  },
  {
   "cell_type": "code",
   "execution_count": null,
   "id": "f7d427ed",
   "metadata": {},
   "outputs": [
    {
     "ename": "ValidationError",
     "evalue": "1 validation error for Tool\nfunction_declarations\n  Input should be a valid list [type=list_type, input_value={'name': 'set_light_value...htness', 'color_temp']}}, input_type=dict]\n    For further information visit https://errors.pydantic.dev/2.11/v/list_type",
     "output_type": "error",
     "traceback": [
      "\u001b[31m---------------------------------------------------------------------------\u001b[39m",
      "\u001b[31mValidationError\u001b[39m                           Traceback (most recent call last)",
      "\u001b[36mCell\u001b[39m\u001b[36m \u001b[39m\u001b[32mIn[10]\u001b[39m\u001b[32m, line 101\u001b[39m\n\u001b[32m     86\u001b[39m             \u001b[38;5;28;01mreturn\u001b[39;00m \u001b[38;5;28;01mNone\u001b[39;00m\n\u001b[32m     96\u001b[39m base_agent = BaseAgentLocal(\n\u001b[32m     97\u001b[39m     model=\u001b[33m\"\u001b[39m\u001b[33mgemini-2.0-flash\u001b[39m\u001b[33m\"\u001b[39m,\n\u001b[32m     98\u001b[39m     gemini_api_key=os.getenv(\u001b[33m\"\u001b[39m\u001b[33mGEMINI_API_KEY\u001b[39m\u001b[33m\"\u001b[39m),\n\u001b[32m     99\u001b[39m     gemini_url=\u001b[33m\"\u001b[39m\u001b[33mgemini.googleapis.com\u001b[39m\u001b[33m\"\u001b[39m,\n\u001b[32m    100\u001b[39m )\n\u001b[32m--> \u001b[39m\u001b[32m101\u001b[39m \u001b[43mbase_agent\u001b[49m\u001b[43m.\u001b[49m\u001b[43mcall_gemini\u001b[49m\u001b[43m(\u001b[49m\u001b[33;43m'\u001b[39;49m\u001b[33;43mtest\u001b[39;49m\u001b[33;43m'\u001b[39;49m\u001b[43m,\u001b[49m\u001b[33;43m'\u001b[39;49m\u001b[33;43mtest\u001b[39;49m\u001b[33;43m'\u001b[39;49m\u001b[43m,\u001b[49m\u001b[43mset_light_values_declaration\u001b[49m\u001b[43m)\u001b[49m\n",
      "\u001b[36mCell\u001b[39m\u001b[36m \u001b[39m\u001b[32mIn[10]\u001b[39m\u001b[32m, line 41\u001b[39m, in \u001b[36mBaseAgentLocal.call_gemini\u001b[39m\u001b[34m(self, user_prompt, system_prompt, functions)\u001b[39m\n\u001b[32m     39\u001b[39m config = \u001b[38;5;28;01mNone\u001b[39;00m\n\u001b[32m     40\u001b[39m \u001b[38;5;28;01mif\u001b[39;00m functions:\n\u001b[32m---> \u001b[39m\u001b[32m41\u001b[39m     tools = \u001b[43mtypes\u001b[49m\u001b[43m.\u001b[49m\u001b[43mTool\u001b[49m\u001b[43m(\u001b[49m\u001b[43mfunction_declarations\u001b[49m\u001b[43m=\u001b[49m\u001b[43mfunctions\u001b[49m\u001b[43m)\u001b[49m\n\u001b[32m     42\u001b[39m     config = types.GenerateContentConfig(tools=[tools])\n\u001b[32m     44\u001b[39m \u001b[38;5;66;03m# Build the contents\u001b[39;00m\n",
      "\u001b[36mFile \u001b[39m\u001b[32m~/virtual_envrionments/dev-env/lib/python3.13/site-packages/pydantic/main.py:243\u001b[39m, in \u001b[36mBaseModel.__init__\u001b[39m\u001b[34m(self, **data)\u001b[39m\n\u001b[32m    241\u001b[39m \u001b[38;5;66;03m# `__tracebackhide__` tells pytest and some other tools to omit this function from tracebacks\u001b[39;00m\n\u001b[32m    242\u001b[39m __tracebackhide__ = \u001b[38;5;28;01mTrue\u001b[39;00m\n\u001b[32m--> \u001b[39m\u001b[32m243\u001b[39m validated_self = \u001b[38;5;28;43mself\u001b[39;49m\u001b[43m.\u001b[49m\u001b[43m__pydantic_validator__\u001b[49m\u001b[43m.\u001b[49m\u001b[43mvalidate_python\u001b[49m\u001b[43m(\u001b[49m\u001b[43mdata\u001b[49m\u001b[43m,\u001b[49m\u001b[43m \u001b[49m\u001b[43mself_instance\u001b[49m\u001b[43m=\u001b[49m\u001b[38;5;28;43mself\u001b[39;49m\u001b[43m)\u001b[49m\n\u001b[32m    244\u001b[39m \u001b[38;5;28;01mif\u001b[39;00m \u001b[38;5;28mself\u001b[39m \u001b[38;5;129;01mis\u001b[39;00m \u001b[38;5;129;01mnot\u001b[39;00m validated_self:\n\u001b[32m    245\u001b[39m     warnings.warn(\n\u001b[32m    246\u001b[39m         \u001b[33m'\u001b[39m\u001b[33mA custom validator is returning a value other than `self`.\u001b[39m\u001b[38;5;130;01m\\n\u001b[39;00m\u001b[33m'\u001b[39m\n\u001b[32m    247\u001b[39m         \u001b[33m\"\u001b[39m\u001b[33mReturning anything other than `self` from a top level model validator isn\u001b[39m\u001b[33m'\u001b[39m\u001b[33mt supported when validating via `__init__`.\u001b[39m\u001b[38;5;130;01m\\n\u001b[39;00m\u001b[33m\"\u001b[39m\n\u001b[32m    248\u001b[39m         \u001b[33m'\u001b[39m\u001b[33mSee the `model_validator` docs (https://docs.pydantic.dev/latest/concepts/validators/#model-validators) for more details.\u001b[39m\u001b[33m'\u001b[39m,\n\u001b[32m    249\u001b[39m         stacklevel=\u001b[32m2\u001b[39m,\n\u001b[32m    250\u001b[39m     )\n",
      "\u001b[31mValidationError\u001b[39m: 1 validation error for Tool\nfunction_declarations\n  Input should be a valid list [type=list_type, input_value={'name': 'set_light_value...htness', 'color_temp']}}, input_type=dict]\n    For further information visit https://errors.pydantic.dev/2.11/v/list_type"
     ]
    }
   ],
   "source": [
    "import requests\n",
    "import json\n",
    "from google import genai\n",
    "from google.genai import types\n",
    "import os\n",
    "\n",
    "\n",
    "class BaseAgentLocal:\n",
    "    \"\"\"\n",
    "    BaseAgent class for interacting with the Gemini API.\n",
    "    This class provides a foundation for other agents to inherit from.\n",
    "    \"\"\"\n",
    "\n",
    "    def __init__(self, gemini_api_key, gemini_url, model):\n",
    "        \"\"\"\n",
    "        Initialize the BaseAgent with the API key and Gemini API URL.\n",
    "        \"\"\"\n",
    "        self.gemini_api_key = gemini_api_key\n",
    "        self.gemini_url = gemini_url\n",
    "        self.model = model\n",
    "        os.environ[\"GOOGLE_GENAI_USE_VERTEXAI\"] = \"false\"\n",
    "\n",
    "    def call_gemini(self, user_prompt=None, system_prompt=None, functions=None):\n",
    "        \"\"\"\n",
    "        Call the Gemini API with optional user prompt, system prompt, and functions.\n",
    "\n",
    "        Args:\n",
    "            user_prompt (str): The user prompt to include in the API call.\n",
    "            system_prompt (str): The system prompt to include in the API call.\n",
    "            functions (list): A list of function declarations to include in the API call.\n",
    "\n",
    "        Returns:\n",
    "            dict: The response from the Gemini API.\n",
    "        \"\"\"\n",
    "        # Initialize the client\n",
    "        client = genai.Client(api_key=self.gemini_api_key)\n",
    "\n",
    "        # Setup config and tools only if functions are provided\n",
    "        config = None\n",
    "        if functions:\n",
    "            tools = types.Tool(function_declarations=[functions])\n",
    "            config = types.GenerateContentConfig(tools=[tools])\n",
    "\n",
    "\n",
    "    tools = types.Tool(function_declarations=[set_light_values_declaration])\n",
    "    config = types.GenerateContentConfig(tools=[tools])\n",
    "        # Build the contents\n",
    "        contents = []\n",
    "\n",
    "        # Add user prompt\n",
    "        if user_prompt:\n",
    "            contents.append(\n",
    "                types.Content(\n",
    "                    role=\"user\",\n",
    "                    parts=[\n",
    "                        types.Part(\n",
    "                            text=user_prompt\n",
    "                        )\n",
    "                    ]\n",
    "                )\n",
    "            )\n",
    "\n",
    "        # Add system prompt\n",
    "        if system_prompt:\n",
    "            contents.append(\n",
    "                types.Content(\n",
    "                    role=\"model\",\n",
    "                    parts=[\n",
    "                        types.Part(\n",
    "                            text=system_prompt\n",
    "                        )\n",
    "                    ]\n",
    "                )\n",
    "            )\n",
    "\n",
    "        # Make the API call\n",
    "        try:\n",
    "            if config:\n",
    "                response = client.models.generate_content(\n",
    "                    model=self.model, config=config, contents=contents\n",
    "                )\n",
    "            else:\n",
    "                response = client.models.generate_content(\n",
    "                    model=self.model, contents=contents\n",
    "                )\n",
    "            return response\n",
    "        except Exception as e:\n",
    "            print(f\"Error while calling Gemini API: {e}\")\n",
    "            return None\n",
    "\n",
    "\n",
    "\n",
    "\n",
    "\n",
    "\n",
    "\n",
    "\n",
    "\n",
    "base_agent = BaseAgentLocal(\n",
    "    model=\"gemini-2.0-flash\",\n",
    "    gemini_api_key=os.getenv(\"GEMINI_API_KEY\"),\n",
    "    gemini_url=\"gemini.googleapis.com\",\n",
    ")\n",
    "base_agent.call_gemini('test','test',set_light_values_declaration)\n",
    "\n",
    "\n"
   ]
  },
  {
   "cell_type": "code",
   "execution_count": 23,
   "id": "dbe57afc",
   "metadata": {},
   "outputs": [
    {
     "data": {
      "text/plain": [
       "{'name': 'set_light_values',\n",
       " 'description': 'Sets the brightness and color temperature of a light.',\n",
       " 'parameters': {'type': 'object',\n",
       "  'properties': {'brightness': {'type': 'integer',\n",
       "    'description': 'Light level from 0 to 100. Zero is off and 100 is full brightness'},\n",
       "   'color_temp': {'type': 'string',\n",
       "    'enum': ['daylight', 'cool', 'warm'],\n",
       "    'description': 'Color temperature of the light fixture, which can be `daylight`, `cool` or `warm`.'}},\n",
       "  'required': ['brightness', 'color_temp']}}"
      ]
     },
     "execution_count": 23,
     "metadata": {},
     "output_type": "execute_result"
    }
   ],
   "source": [
    "base_agent.call_gemini(\n",
    "    user_prompt=\"Set the light to 50% brightness and warm color temperature.\",\n",
    "    system_prompt=\"You are a smart home assistant.\",\n",
    "    functions=[set_light_values_declaration]\n",
    ")\n",
    "set_light_values_declaration"
   ]
  },
  {
   "cell_type": "code",
   "execution_count": 9,
   "id": "b31917c5",
   "metadata": {},
   "outputs": [
    {
     "ename": "NameError",
     "evalue": "name 'call_gemini' is not defined",
     "output_type": "error",
     "traceback": [
      "\u001b[31m---------------------------------------------------------------------------\u001b[39m",
      "\u001b[31mNameError\u001b[39m                                 Traceback (most recent call last)",
      "\u001b[36mCell\u001b[39m\u001b[36m \u001b[39m\u001b[32mIn[9]\u001b[39m\u001b[32m, line 1\u001b[39m\n\u001b[32m----> \u001b[39m\u001b[32m1\u001b[39m \u001b[43mcall_gemini\u001b[49m(\u001b[33m'\u001b[39m\u001b[33mtest\u001b[39m\u001b[33m'\u001b[39m,\u001b[33m'\u001b[39m\u001b[33mtest\u001b[39m\u001b[33m'\u001b[39m, set_light_values_declaration )\n",
      "\u001b[31mNameError\u001b[39m: name 'call_gemini' is not defined"
     ]
    }
   ],
   "source": [
    "call_gemini('test','test', set_light_values_declaration )"
   ]
  },
  {
   "cell_type": "code",
   "execution_count": null,
   "id": "f527c7a2",
   "metadata": {},
   "outputs": [
    {
     "ename": "ModuleNotFoundError",
     "evalue": "No module named 'src'",
     "output_type": "error",
     "traceback": [
      "\u001b[31m---------------------------------------------------------------------------\u001b[39m",
      "\u001b[31mModuleNotFoundError\u001b[39m                       Traceback (most recent call last)",
      "\u001b[36mCell\u001b[39m\u001b[36m \u001b[39m\u001b[32mIn[1]\u001b[39m\u001b[32m, line 1\u001b[39m\n\u001b[32m----> \u001b[39m\u001b[32m1\u001b[39m \u001b[38;5;28;01mfrom\u001b[39;00m\u001b[38;5;250m \u001b[39m\u001b[34;01msrc\u001b[39;00m\u001b[34;01m.\u001b[39;00m\u001b[34;01mbase_agent\u001b[39;00m\u001b[38;5;250m \u001b[39m\u001b[38;5;28;01mimport\u001b[39;00m call_gemini\n\u001b[32m      3\u001b[39m \u001b[38;5;66;03m# Test the call_gemini function with sample prompts\u001b[39;00m\n\u001b[32m      4\u001b[39m call_gemini(\n\u001b[32m      5\u001b[39m     user_prompt=\u001b[33m\"\u001b[39m\u001b[33mTurn on the lights to 75\u001b[39m\u001b[33m%\u001b[39m\u001b[33m brightness and set the color temperature to daylight.\u001b[39m\u001b[33m\"\u001b[39m,\n\u001b[32m      6\u001b[39m     system_prompt=\u001b[33m\"\u001b[39m\u001b[33mYou are a smart home assistant that controls lighting.\u001b[39m\u001b[33m\"\u001b[39m,\n\u001b[32m      7\u001b[39m     functions=[set_light_values_declaration]\n\u001b[32m      8\u001b[39m )\n",
      "\u001b[31mModuleNotFoundError\u001b[39m: No module named 'src'"
     ]
    }
   ],
   "source": [
    "\n",
    "# Test the call_gemini function with sample prompts\n",
    "call_gemini(\n",
    "    user_prompt=\"Turn on the lights to 75% brightness and set the color temperature to daylight.\",\n",
    "    system_prompt=\"You are a smart home assistant that controls lighting.\",\n",
    "    functions=[set_light_values_declaration]\n",
    ")"
   ]
  },
  {
   "cell_type": "code",
   "execution_count": 1,
   "id": "0ba415e3",
   "metadata": {},
   "outputs": [],
   "source": [
    "import sys\n",
    "import os\n",
    "import json\n",
    "from pathlib import Path\n",
    "curr_dir = Path(os.getcwd())\n",
    "root_dir = Path(curr_dir.parents[0])\n",
    "sys.path.append(str(root_dir))\n",
    "\n",
    "from agents.base_agent import BaseAgent\n",
    "import json"
   ]
  },
  {
   "cell_type": "markdown",
   "id": "a0922da9",
   "metadata": {},
   "source": []
  },
  {
   "cell_type": "code",
   "execution_count": 7,
   "id": "c1beca3e",
   "metadata": {},
   "outputs": [
    {
     "ename": "ValidationError",
     "evalue": "1 validation error for Tool\nfunction_declarations\n  Input should be a valid list [type=list_type, input_value={'name': 'set_light_value...htness', 'color_temp']}}, input_type=dict]\n    For further information visit https://errors.pydantic.dev/2.11/v/list_type",
     "output_type": "error",
     "traceback": [
      "\u001b[31m---------------------------------------------------------------------------\u001b[39m",
      "\u001b[31mValidationError\u001b[39m                           Traceback (most recent call last)",
      "\u001b[36mCell\u001b[39m\u001b[36m \u001b[39m\u001b[32mIn[7]\u001b[39m\u001b[32m, line 6\u001b[39m\n\u001b[32m      1\u001b[39m base_agent = BaseAgent(\n\u001b[32m      2\u001b[39m     model=\u001b[33m\"\u001b[39m\u001b[33mgemini-2.0-flash\u001b[39m\u001b[33m\"\u001b[39m,\n\u001b[32m      3\u001b[39m     gemini_api_key=os.getenv(\u001b[33m\"\u001b[39m\u001b[33mGEMINI_API_KEY\u001b[39m\u001b[33m\"\u001b[39m),\n\u001b[32m      4\u001b[39m     gemini_url=\u001b[33m\"\u001b[39m\u001b[33mgemini.googleapis.com\u001b[39m\u001b[33m\"\u001b[39m,\n\u001b[32m      5\u001b[39m )\n\u001b[32m----> \u001b[39m\u001b[32m6\u001b[39m \u001b[43mbase_agent\u001b[49m\u001b[43m.\u001b[49m\u001b[43mcall_gemini\u001b[49m\u001b[43m(\u001b[49m\u001b[33;43m'\u001b[39;49m\u001b[33;43mtest\u001b[39;49m\u001b[33;43m'\u001b[39;49m\u001b[43m,\u001b[49m\u001b[33;43m'\u001b[39;49m\u001b[33;43mtest\u001b[39;49m\u001b[33;43m'\u001b[39;49m\u001b[43m,\u001b[49m\u001b[43m \u001b[49m\u001b[43mset_light_values_declaration\u001b[49m\u001b[43m)\u001b[49m\n",
      "\u001b[36mFile \u001b[39m\u001b[32m~/Projects/p/EMS_Copilot/backend/agents/base_agent.py:41\u001b[39m, in \u001b[36mBaseAgent.call_gemini\u001b[39m\u001b[34m(self, user_prompt, system_prompt, functions)\u001b[39m\n\u001b[32m     39\u001b[39m config = \u001b[38;5;28;01mNone\u001b[39;00m\n\u001b[32m     40\u001b[39m \u001b[38;5;28;01mif\u001b[39;00m functions:\n\u001b[32m---> \u001b[39m\u001b[32m41\u001b[39m     tools = \u001b[43mtypes\u001b[49m\u001b[43m.\u001b[49m\u001b[43mTool\u001b[49m\u001b[43m(\u001b[49m\u001b[43mfunction_declarations\u001b[49m\u001b[43m=\u001b[49m\u001b[43mfunctions\u001b[49m\u001b[43m)\u001b[49m\n\u001b[32m     42\u001b[39m     config = types.GenerateContentConfig(tools=[tools])\n\u001b[32m     44\u001b[39m \u001b[38;5;66;03m# Build the contents\u001b[39;00m\n",
      "\u001b[36mFile \u001b[39m\u001b[32m~/virtual_envrionments/dev-env/lib/python3.13/site-packages/pydantic/main.py:243\u001b[39m, in \u001b[36mBaseModel.__init__\u001b[39m\u001b[34m(self, **data)\u001b[39m\n\u001b[32m    241\u001b[39m \u001b[38;5;66;03m# `__tracebackhide__` tells pytest and some other tools to omit this function from tracebacks\u001b[39;00m\n\u001b[32m    242\u001b[39m __tracebackhide__ = \u001b[38;5;28;01mTrue\u001b[39;00m\n\u001b[32m--> \u001b[39m\u001b[32m243\u001b[39m validated_self = \u001b[38;5;28;43mself\u001b[39;49m\u001b[43m.\u001b[49m\u001b[43m__pydantic_validator__\u001b[49m\u001b[43m.\u001b[49m\u001b[43mvalidate_python\u001b[49m\u001b[43m(\u001b[49m\u001b[43mdata\u001b[49m\u001b[43m,\u001b[49m\u001b[43m \u001b[49m\u001b[43mself_instance\u001b[49m\u001b[43m=\u001b[49m\u001b[38;5;28;43mself\u001b[39;49m\u001b[43m)\u001b[49m\n\u001b[32m    244\u001b[39m \u001b[38;5;28;01mif\u001b[39;00m \u001b[38;5;28mself\u001b[39m \u001b[38;5;129;01mis\u001b[39;00m \u001b[38;5;129;01mnot\u001b[39;00m validated_self:\n\u001b[32m    245\u001b[39m     warnings.warn(\n\u001b[32m    246\u001b[39m         \u001b[33m'\u001b[39m\u001b[33mA custom validator is returning a value other than `self`.\u001b[39m\u001b[38;5;130;01m\\n\u001b[39;00m\u001b[33m'\u001b[39m\n\u001b[32m    247\u001b[39m         \u001b[33m\"\u001b[39m\u001b[33mReturning anything other than `self` from a top level model validator isn\u001b[39m\u001b[33m'\u001b[39m\u001b[33mt supported when validating via `__init__`.\u001b[39m\u001b[38;5;130;01m\\n\u001b[39;00m\u001b[33m\"\u001b[39m\n\u001b[32m    248\u001b[39m         \u001b[33m'\u001b[39m\u001b[33mSee the `model_validator` docs (https://docs.pydantic.dev/latest/concepts/validators/#model-validators) for more details.\u001b[39m\u001b[33m'\u001b[39m,\n\u001b[32m    249\u001b[39m         stacklevel=\u001b[32m2\u001b[39m,\n\u001b[32m    250\u001b[39m     )\n",
      "\u001b[31mValidationError\u001b[39m: 1 validation error for Tool\nfunction_declarations\n  Input should be a valid list [type=list_type, input_value={'name': 'set_light_value...htness', 'color_temp']}}, input_type=dict]\n    For further information visit https://errors.pydantic.dev/2.11/v/list_type"
     ]
    }
   ],
   "source": [
    "base_agent = BaseAgent(\n",
    "    model=\"gemini-2.0-flash\",\n",
    "    gemini_api_key=os.getenv(\"GEMINI_API_KEY\"),\n",
    "    gemini_url=\"gemini.googleapis.com\",\n",
    ")\n",
    "base_agent.call_gemini('test','test', set_light_values_declaration)"
   ]
  },
  {
   "cell_type": "code",
   "execution_count": null,
   "id": "3270a243",
   "metadata": {},
   "outputs": [],
   "source": []
  }
 ],
 "metadata": {
  "kernelspec": {
   "display_name": "Python (dev-env)",
   "language": "python",
   "name": "dev-env"
  },
  "language_info": {
   "codemirror_mode": {
    "name": "ipython",
    "version": 3
   },
   "file_extension": ".py",
   "mimetype": "text/x-python",
   "name": "python",
   "nbconvert_exporter": "python",
   "pygments_lexer": "ipython3",
   "version": "3.13.3"
  }
 },
 "nbformat": 4,
 "nbformat_minor": 5
}
