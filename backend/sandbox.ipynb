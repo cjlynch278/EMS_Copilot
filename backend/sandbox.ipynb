{
 "cells": [
  {
   "cell_type": "markdown",
   "id": "a0922da9",
   "metadata": {},
   "source": []
  },
  {
   "cell_type": "code",
   "execution_count": null,
   "id": "2fc14133",
   "metadata": {},
   "outputs": [],
   "source": [
    "import sys\n",
    "import os\n",
    "import json\n",
    "from pathlib import Path\n",
    "from dotenv import load_dotenv\n",
    "load_dotenv()\n",
    "\n",
    "curr_dir = Path(os.getcwd())\n",
    "root_dir = Path(curr_dir.parents[0])\n",
    "sys.path.append(str(root_dir))\n",
    "\n",
    "from agents.base_agent import BaseAgent\n",
    "from agents.orchestrator_agent import OrchestratorAgent\n",
    "\n"
   ]
  },
  {
   "cell_type": "code",
   "execution_count": null,
   "id": "3270a243",
   "metadata": {},
   "outputs": [],
   "source": [
    "orchestrator = OrchestratorAgent(\n",
    "    gemini_model=\"gemini-2.0-flash\",\n",
    "    gemini_api_key=os.getenv(\"GEMINI_API_KEY\"),\n",
    ")"
   ]
  },
  {
   "cell_type": "code",
   "execution_count": null,
   "id": "8dd1ec53",
   "metadata": {},
   "outputs": [],
   "source": []
  },
  {
   "cell_type": "code",
   "execution_count": null,
   "id": "5aaa2f24",
   "metadata": {},
   "outputs": [],
   "source": [
    "response = orchestrator.orchestrate(\n",
    "    user_prompt=\"Get me to the nearest stroke center\"\n",
    "    \n",
    "    )\n",
    "    "
   ]
  },
  {
   "cell_type": "code",
   "execution_count": null,
   "id": "2456b8da",
   "metadata": {},
   "outputs": [],
   "source": [
    "print(response)"
   ]
  },
  {
   "cell_type": "code",
   "execution_count": null,
   "id": "806458a3",
   "metadata": {},
   "outputs": [],
   "source": [
    "response.candidates[0].content.parts[0].text\n"
   ]
  },
  {
   "cell_type": "code",
   "execution_count": null,
   "id": "d4230f19",
   "metadata": {},
   "outputs": [],
   "source": []
  },
  {
   "cell_type": "code",
   "execution_count": null,
   "id": "76d3115d",
   "metadata": {},
   "outputs": [],
   "source": [
    "\n",
    "response.candidates[0].content.parts[0]\n"
   ]
  },
  {
   "cell_type": "code",
   "execution_count": null,
   "id": "caf11ac8",
   "metadata": {},
   "outputs": [],
   "source": [
    "print(\"KEY{}\".format(os.getenv(\"GOOGLE_MAPS_API_KEY\")))\n"
   ]
  },
  {
   "cell_type": "code",
   "execution_count": null,
   "id": "dd240419",
   "metadata": {},
   "outputs": [],
   "source": [
    "import requests\n",
    "google_maps_api_key = os.getenv(\"GOOGLE_MAPS_API_KEY\")\n",
    "print(google_maps_api_key)\n",
    "url = f\"https://www.googleapis.com/geolocation/v1/geolocate?key={google_maps_api_key}\"\n",
    "response = requests.post(url)\n",
    "\n",
    "if response.status_code == 200:\n",
    "    location = response.json()['location']\n",
    "    lat = location['lat']\n",
    "    lng = location['lng']\n",
    "    accuracy = response.json()['accuracy']\n",
    "    print(response)\n",
    "else:\n",
    "    raise Exception(f\"Error: {response.text}\")\n"
   ]
  },
  {
   "cell_type": "code",
   "execution_count": null,
   "id": "8070e490",
   "metadata": {},
   "outputs": [],
   "source": [
    "import whisper\n",
    "\n",
    "model = whisper.load_model(\"turbo\")\n",
    "result = model.transcribe(\"audio.mp3\")\n",
    "print(result[\"text\"])"
   ]
  },
  {
   "cell_type": "code",
   "execution_count": null,
   "id": "2671daad",
   "metadata": {},
   "outputs": [],
   "source": []
  }
 ],
 "metadata": {
  "kernelspec": {
   "display_name": "Python (dev-env)",
   "language": "python",
   "name": "dev-env"
  },
  "language_info": {
   "codemirror_mode": {
    "name": "ipython",
    "version": 3
   },
   "file_extension": ".py",
   "mimetype": "text/x-python",
   "name": "python",
   "nbconvert_exporter": "python",
   "pygments_lexer": "ipython3",
   "version": "3.13.3"
  }
 },
 "nbformat": 4,
 "nbformat_minor": 5
}
